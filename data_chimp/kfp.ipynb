{
 "cells": [
  {
   "cell_type": "code",
   "execution_count": 24,
   "metadata": {},
   "outputs": [
    {
     "name": "stdout",
     "output_type": "stream",
     "text": [
      "funcs(lambda x: x + 1)\n",
      "\n"
     ]
    }
   ],
   "source": [
    "def funcs(func):\n",
    "    print(inspect.getsource(func))\n",
    "\n",
    "funcs(lambda x: x + 1)"
   ]
  },
  {
   "cell_type": "code",
   "execution_count": 5,
   "metadata": {},
   "outputs": [
    {
     "data": {
      "text/html": [
       "<div ><h1 >Pipelines</h1>\n",
       "<ul ><li ><div >[Tutorial] DSL - Control structures\n",
       "<button onclick=\"dc_execute('_o_start_pipeline', {&quot;id&quot;: &quot;4e449197-7ad4-48ed-bb6d-8f414f00ddc0&quot;, &quot;created_at&quot;: &quot;2023-02-20T14:16:58Z&quot;, &quot;name&quot;: &quot;[Tutorial] DSL - Control structures&quot;, &quot;description&quot;: &quot;[source code](https://github.com/kubeflow/pipelines/tree/58052eafc10d42dcbd3ab38abf5c944d25af0e4b/samples/tutorials/DSL%20-%20Control%20structures) Shows how to use conditional execution and exit handlers. This pipeline will randomly fail to demonstrate that the exit handler gets executed even in case of failure.&quot;, &quot;default_version&quot;: {&quot;id&quot;: &quot;4e449197-7ad4-48ed-bb6d-8f414f00ddc0&quot;, &quot;name&quot;: &quot;[Tutorial] DSL - Control structures&quot;, &quot;created_at&quot;: &quot;2023-02-20T14:16:58Z&quot;, &quot;resource_references&quot;: [{&quot;key&quot;: {&quot;type&quot;: &quot;PIPELINE&quot;, &quot;id&quot;: &quot;4e449197-7ad4-48ed-bb6d-8f414f00ddc0&quot;}, &quot;relationship&quot;: &quot;OWNER&quot;}]}})\">Start</button></div></li>\n",
       "<li ><div >[Tutorial] Data passing in python components\n",
       "<button onclick=\"dc_execute('_o_start_pipeline', {&quot;id&quot;: &quot;e278c603-432d-4ba8-a4f8-858d818e5cb2&quot;, &quot;created_at&quot;: &quot;2023-02-20T14:16:57Z&quot;, &quot;name&quot;: &quot;[Tutorial] Data passing in python components&quot;, &quot;description&quot;: &quot;[source code](https://github.com/kubeflow/pipelines/tree/58052eafc10d42dcbd3ab38abf5c944d25af0e4b/samples/tutorials/Data%20passing%20in%20python%20components) Shows how to pass data between python components.&quot;, &quot;default_version&quot;: {&quot;id&quot;: &quot;e278c603-432d-4ba8-a4f8-858d818e5cb2&quot;, &quot;name&quot;: &quot;[Tutorial] Data passing in python components&quot;, &quot;created_at&quot;: &quot;2023-02-20T14:16:57Z&quot;, &quot;resource_references&quot;: [{&quot;key&quot;: {&quot;type&quot;: &quot;PIPELINE&quot;, &quot;id&quot;: &quot;e278c603-432d-4ba8-a4f8-858d818e5cb2&quot;}, &quot;relationship&quot;: &quot;OWNER&quot;}]}})\">Start</button></div></li>\n",
       "<li ><div >[Demo] TFX - Taxi tip prediction model trainer\n",
       "<button onclick=\"dc_execute('_o_start_pipeline', {&quot;id&quot;: &quot;a62f4f2c-e098-4cc6-829c-03640338a609&quot;, &quot;created_at&quot;: &quot;2023-02-20T14:16:56Z&quot;, &quot;name&quot;: &quot;[Demo] TFX - Taxi tip prediction model trainer&quot;, &quot;description&quot;: &quot;[source code](https://github.com/kubeflow/pipelines/tree/58052eafc10d42dcbd3ab38abf5c944d25af0e4b/samples/core/parameterized_tfx_oss) [GCP Permission requirements](https://github.com/kubeflow/pipelines/blob/58052eafc10d42dcbd3ab38abf5c944d25af0e4b/samples/core/parameterized_tfx_oss#permission). Example pipeline that does classification with model analysis based on a public tax cab dataset.&quot;, &quot;parameters&quot;: [{&quot;name&quot;: &quot;pipeline-root&quot;, &quot;value&quot;: &quot;gs://{{kfp-default-bucket}}/tfx_taxi_simple/{{workflow.uid}}&quot;}, {&quot;name&quot;: &quot;module-file&quot;, &quot;value&quot;: &quot;/opt/conda/lib/python3.7/site-packages/tfx/examples/chicago_taxi_pipeline/taxi_utils_native_keras.py&quot;}, {&quot;name&quot;: &quot;push_destination&quot;, &quot;value&quot;: &quot;{\\&quot;filesystem\\&quot;: {\\&quot;base_directory\\&quot;: \\&quot;gs://your-bucket/serving_model/tfx_taxi_simple\\&quot;}}&quot;}], &quot;default_version&quot;: {&quot;id&quot;: &quot;a62f4f2c-e098-4cc6-829c-03640338a609&quot;, &quot;name&quot;: &quot;[Demo] TFX - Taxi tip prediction model trainer&quot;, &quot;created_at&quot;: &quot;2023-02-20T14:16:56Z&quot;, &quot;parameters&quot;: [{&quot;name&quot;: &quot;pipeline-root&quot;, &quot;value&quot;: &quot;gs://{{kfp-default-bucket}}/tfx_taxi_simple/{{workflow.uid}}&quot;}, {&quot;name&quot;: &quot;module-file&quot;, &quot;value&quot;: &quot;/opt/conda/lib/python3.7/site-packages/tfx/examples/chicago_taxi_pipeline/taxi_utils_native_keras.py&quot;}, {&quot;name&quot;: &quot;push_destination&quot;, &quot;value&quot;: &quot;{\\&quot;filesystem\\&quot;: {\\&quot;base_directory\\&quot;: \\&quot;gs://your-bucket/serving_model/tfx_taxi_simple\\&quot;}}&quot;}], &quot;resource_references&quot;: [{&quot;key&quot;: {&quot;type&quot;: &quot;PIPELINE&quot;, &quot;id&quot;: &quot;a62f4f2c-e098-4cc6-829c-03640338a609&quot;}, &quot;relationship&quot;: &quot;OWNER&quot;}]}})\">Start</button></div></li>\n",
       "<li ><div >[Demo] XGBoost - Iterative model training\n",
       "<button onclick=\"dc_execute('_o_start_pipeline', {&quot;id&quot;: &quot;066c2d73-f3bf-4f76-874e-8b92c99b224c&quot;, &quot;created_at&quot;: &quot;2023-02-20T14:16:55Z&quot;, &quot;name&quot;: &quot;[Demo] XGBoost - Iterative model training&quot;, &quot;description&quot;: &quot;[source code](https://github.com/kubeflow/pipelines/blob/58052eafc10d42dcbd3ab38abf5c944d25af0e4b/samples/core/train_until_good/train_until_good.py) This sample demonstrates iterative training using a train-eval-check recursive loop. The main pipeline trains the initial model and then gradually trains the model some more until the model evaluation metrics are good enough.&quot;, &quot;default_version&quot;: {&quot;id&quot;: &quot;066c2d73-f3bf-4f76-874e-8b92c99b224c&quot;, &quot;name&quot;: &quot;[Demo] XGBoost - Iterative model training&quot;, &quot;created_at&quot;: &quot;2023-02-20T14:16:55Z&quot;, &quot;resource_references&quot;: [{&quot;key&quot;: {&quot;type&quot;: &quot;PIPELINE&quot;, &quot;id&quot;: &quot;066c2d73-f3bf-4f76-874e-8b92c99b224c&quot;}, &quot;relationship&quot;: &quot;OWNER&quot;}]}})\">Start</button></div></li></ul></div>"
      ],
      "text/plain": [
       "<data_chimp_executor.execute.L at 0x1224dc890>"
      ]
     },
     "execution_count": 5,
     "metadata": {},
     "output_type": "execute_result"
    }
   ],
   "source": [
    "import requests\n",
    "from data_chimp_executor import execute as _\n",
    "\n",
    "pipelines = requests.get(\"http://localhost:8080/apis/v1beta1/pipelines?page_token=&page_size=10&sort_by=created_at%20desc&filter=\").json()[\"pipelines\"]\n",
    "\n",
    "def _o_start_pipeline(pipeline):\n",
    "  references = pipeline['default_version']['resource_references']\n",
    "  for reference in references:\n",
    "    reference['key']['type'] = 'PIPELINE_VERSION'\n",
    "    reference['relationship'] = 'CREATOR'\n",
    "  return requests.post(\"http://localhost:8080/apis/v1beta1/runs\", json={\n",
    "    'name': pipeline['name'],\n",
    "    'resource_references': references,\n",
    "    }\n",
    "  )\n",
    "\n",
    "_.div(\n",
    "  _.h1(\"Pipelines\"),\n",
    "  _.ul(\n",
    "    *[\n",
    "      _.li(\n",
    "      _.div(\n",
    "        pipeline['name'], \n",
    "        _.button(\"Start\", onclick=_.Call(_o_start_pipeline, pipeline))\n",
    "        )\n",
    "      )\n",
    "      for pipeline \n",
    "      in pipelines\n",
    "    ]\n",
    "  )\n",
    ")"
   ]
  },
  {
   "cell_type": "code",
   "execution_count": null,
   "metadata": {},
   "outputs": [],
   "source": [
    "r = start_pipeline(\n",
    "  {\n",
    "  'name': '[Tutorial] DSL - Control structures  (104f8)', \n",
    "  'default_version': {\n",
    "    'resource_references': [\n",
    "        {'key': {'id': '4e449197-7ad4-48ed-bb6d-8f414f00ddc0', 'type': 'PIPELINE_VERSION'}, 'relationship': 'CREATOR'}\n",
    "      ]\n",
    "    }\n",
    "  }\n",
    ")\n",
    "r.json()"
   ]
  }
 ],
 "metadata": {
  "kernelspec": {
   "display_name": "Python 3",
   "language": "python",
   "name": "python3"
  },
  "language_info": {
   "codemirror_mode": {
    "name": "ipython",
    "version": 3
   },
   "file_extension": ".py",
   "mimetype": "text/x-python",
   "name": "python",
   "nbconvert_exporter": "python",
   "pygments_lexer": "ipython3",
   "version": "3.11.1"
  },
  "orig_nbformat": 4,
  "vscode": {
   "interpreter": {
    "hash": "13523e3cd1fbae48a3d0ca7b45a7084217927e918d7de376d1166dc0bc3d46c7"
   }
  }
 },
 "nbformat": 4,
 "nbformat_minor": 2
}
